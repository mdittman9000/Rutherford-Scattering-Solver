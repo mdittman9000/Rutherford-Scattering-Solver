{
 "cells": [
  {
   "cell_type": "code",
   "execution_count": 3,
   "metadata": {},
   "outputs": [],
   "source": [
    "# Rutherford scattering calculator"
   ]
  },
  {
   "cell_type": "code",
   "execution_count": 14,
   "metadata": {},
   "outputs": [],
   "source": [
    "# Calculate dsigma/dΩ, using the Rutherford formula. Express your result in fm2and in cm2. "
   ]
  },
  {
   "cell_type": "code",
   "execution_count": 5,
   "metadata": {},
   "outputs": [],
   "source": [
    "import math"
   ]
  },
  {
   "cell_type": "code",
   "execution_count": 6,
   "metadata": {},
   "outputs": [],
   "source": [
    "def differential_cross_section(Ekin, scattering_angle, target_atomic_number, beam_atomic_number):\n",
    "    \n",
    "    electric_charge = 1.602E-19 # Coulombs\n",
    "    \n",
    "    epsilon_naught = 8.85E-12 # Farads / Meter\n",
    "    \n",
    "    hbar_c = 197.33 # Mev * fm\n",
    "    \n",
    "    receiprocal_alpha = 137\n",
    "    \n",
    "    return ((((beam_atomic_number * target_atomic_number * hbar_c ) / (4 * Ekin * receiprocal_alpha)))**2)*(1/(math.sin(scattering_angle/2))**4)"
   ]
  },
  {
   "cell_type": "code",
   "execution_count": 7,
   "metadata": {},
   "outputs": [
    {
     "name": "stdout",
     "output_type": "stream",
     "text": [
      "1509.3176348940526fm^2\n"
     ]
    }
   ],
   "source": [
    "print( str(differential_cross_section(10, math.pi/4, 79, 2)) + \"fm^2\")"
   ]
  },
  {
   "cell_type": "code",
   "execution_count": 8,
   "metadata": {},
   "outputs": [],
   "source": [
    "def total_target_number(target_thickness, target_density, target_mass_number):\n",
    "    \n",
    "    avogadros_number = 6.02E23\n",
    "    \n",
    "    return (target_thickness * target_density * (1/target_mass_number) * avogadros_number)\n",
    "    "
   ]
  },
  {
   "cell_type": "code",
   "execution_count": 9,
   "metadata": {},
   "outputs": [
    {
     "data": {
      "text/plain": [
       "6.019999999999999e+21"
      ]
     },
     "execution_count": 9,
     "metadata": {},
     "output_type": "execute_result"
    }
   ],
   "source": [
    "total_target_number(.1, 19.7, 197)"
   ]
  },
  {
   "cell_type": "code",
   "execution_count": 10,
   "metadata": {},
   "outputs": [],
   "source": [
    "def solid_angle(detector_distance, detector_area):\n",
    "    return detector_area/(detector_distance**2)"
   ]
  },
  {
   "cell_type": "code",
   "execution_count": 11,
   "metadata": {},
   "outputs": [
    {
     "data": {
      "text/plain": [
       "0.0001"
      ]
     },
     "execution_count": 11,
     "metadata": {},
     "output_type": "execute_result"
    }
   ],
   "source": [
    "solid_angle(100,1)"
   ]
  },
  {
   "cell_type": "code",
   "execution_count": 12,
   "metadata": {},
   "outputs": [],
   "source": [
    "def counting_rate(differential_cross_section, solid_angle, total_target_number, intensity):\n",
    "    return differential_cross_section * solid_angle * total_target_number * intensity"
   ]
  },
  {
   "cell_type": "code",
   "execution_count": 13,
   "metadata": {},
   "outputs": [
    {
     "name": "stdout",
     "output_type": "stream",
     "text": [
      "90.902Hz\n"
     ]
    }
   ],
   "source": [
    "print( str(counting_rate(1.51E-23, 10E-4, 6.02E+21, 10E+5)) + \"Hz\")"
   ]
  }
 ],
 "metadata": {
  "kernelspec": {
   "display_name": "Python 3",
   "language": "python",
   "name": "python3"
  },
  "language_info": {
   "codemirror_mode": {
    "name": "ipython",
    "version": 3
   },
   "file_extension": ".py",
   "mimetype": "text/x-python",
   "name": "python",
   "nbconvert_exporter": "python",
   "pygments_lexer": "ipython3",
   "version": "3.7.6"
  }
 },
 "nbformat": 4,
 "nbformat_minor": 4
}
